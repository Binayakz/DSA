{
 "cells": [
  {
   "cell_type": "code",
   "execution_count": null,
   "id": "dca20b61",
   "metadata": {},
   "outputs": [],
   "source": [
    "def test_location(cards, query, mid):\n",
    "    if cards[mid] == query:\n",
    "        if mid - 1 >= 0 and cards[mid] == cards[mid - 1]:\n",
    "            return \"left\"\n",
    "        elif mid + 1 <= len(cards) - 1 and cards[mid] == cards[mid + 1]:\n",
    "            return \"right\"\n",
    "        else:\n",
    "            return \"found\"\n",
    "    elif cards[mid] < query:\n",
    "        return \"left\"\n",
    "    elif cards[mid] > query:\n",
    "        return \"right\"\n",
    "    return -1\n",
    "        \n",
    "def locate_card(cards, query):\n",
    "    lo, hi = 0, len(cards) - 1\n",
    "    \n",
    "    while lo <= hi:\n",
    "        \n",
    "        mid = (lo + hi) // 2\n",
    "    \n",
    "        results = test_location(cards, query, mid)\n",
    "        if results == \"found\":\n",
    "            return mid\n",
    "        elif results == \"left\":\n",
    "            hi = mid - 1\n",
    "        elif results == \"right\":\n",
    "            lo = mid + 1\n",
    "    return -1\n",
    "    "
   ]
  },
  {
   "cell_type": "code",
   "execution_count": null,
   "id": "ad4765cc",
   "metadata": {},
   "outputs": [],
   "source": [
    "cards = [13, 11, 10, 7, 4, 3, 1, 0]\n",
    "query = 7\n",
    "output = 3"
   ]
  },
  {
   "cell_type": "code",
   "execution_count": null,
   "id": "c83e2ef6",
   "metadata": {},
   "outputs": [],
   "source": [
    "result = locate_card(cards, query)\n",
    "print(result)"
   ]
  },
  {
   "cell_type": "code",
   "execution_count": null,
   "id": "f6182925",
   "metadata": {},
   "outputs": [],
   "source": [
    "result == output"
   ]
  },
  {
   "cell_type": "code",
   "execution_count": null,
   "id": "a729e72b",
   "metadata": {},
   "outputs": [],
   "source": [
    "test = {\n",
    "    'input': { \n",
    "        'cards': list(range(1000, 0, -1)), \n",
    "        'query': 3\n",
    "    },\n",
    "    'output': 997\n",
    "}"
   ]
  },
  {
   "cell_type": "code",
   "execution_count": null,
   "id": "1ea06e80",
   "metadata": {},
   "outputs": [],
   "source": [
    "locate_card(**test['input']) == test['output']"
   ]
  },
  {
   "cell_type": "markdown",
   "id": "b1244f93",
   "metadata": {},
   "source": [
    "First test case is nothing \n",
    "second test case is a range of numbers"
   ]
  },
  {
   "cell_type": "markdown",
   "id": "b3890ae8",
   "metadata": {},
   "source": [
    "# This a heading"
   ]
  },
  {
   "cell_type": "code",
   "execution_count": null,
   "id": "3607797a",
   "metadata": {},
   "outputs": [],
   "source": []
  }
 ],
 "metadata": {
  "kernelspec": {
   "display_name": "Python 3 (ipykernel)",
   "language": "python",
   "name": "python3"
  },
  "language_info": {
   "codemirror_mode": {
    "name": "ipython",
    "version": 3
   },
   "file_extension": ".py",
   "mimetype": "text/x-python",
   "name": "python",
   "nbconvert_exporter": "python",
   "pygments_lexer": "ipython3",
   "version": "3.9.7"
  }
 },
 "nbformat": 4,
 "nbformat_minor": 5
}
